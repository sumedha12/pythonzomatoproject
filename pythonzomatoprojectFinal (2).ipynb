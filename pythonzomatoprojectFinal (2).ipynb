{
 "cells": [
  {
   "cell_type": "markdown",
   "metadata": {},
   "source": [
    "<h1>PYTHON ZOMATO PROJECT</h1> \n",
    "<h3>I. DATA COLLECTION</h3>\n",
    "\n",
    "This project uses open source data from website Kagle.com. \n",
    "\n",
    "The data used in the project is about various restaurants from different parts of the world that are registered on the site zomato.com. Zomato is an online restaurant search and discovery platform that operates in about 24 countries in the world. \n",
    "The data contains Zomato's restaraunts' ratings, restaraunts' locations,  the cuisines offered, the number of votes, delivery options, etc. There are about 9552 rows and 21 coloumns in the data set.\n",
    "\n",
    "<h3> II. DATA DESCRIPTION & EXPLORATORY DATA ANALYSIS </h3>\n",
    "\n",
    "In this step, I analyze the data and find the correlation between different variables. There are 26 cols namely Restaurant ID,Restaurant Name,Country Code,City,Address,Locality,Longitude,Latitude,Cuisines,Average Cost for two,Currency,Has Table booking, Has Online delivery,Is delivering now,Switch to order menu,Price range,\tAggregate rating,Rating color,Rating text, and Votes.\n",
    "\n",
    "For analyzing the data, I create scatter plots to determine the relationship between a country and its rating. I also plot histograms for finding the range of average rating and the number of votes."
   ]
  },
  {
   "cell_type": "markdown",
   "metadata": {},
   "source": [
    "<h3>Import the data</h3>"
   ]
  },
  {
   "cell_type": "code",
   "execution_count": 108,
   "metadata": {
    "collapsed": false
   },
   "outputs": [
    {
     "data": {
      "text/html": [
       "<div>\n",
       "<table border=\"1\" class=\"dataframe\">\n",
       "  <thead>\n",
       "    <tr style=\"text-align: right;\">\n",
       "      <th></th>\n",
       "      <th>Restaurant ID</th>\n",
       "      <th>Restaurant Name</th>\n",
       "      <th>Country Code</th>\n",
       "      <th>City</th>\n",
       "      <th>Address</th>\n",
       "      <th>Locality</th>\n",
       "      <th>Locality Verbose</th>\n",
       "      <th>Longitude</th>\n",
       "      <th>Latitude</th>\n",
       "      <th>Cuisines</th>\n",
       "      <th>...</th>\n",
       "      <th>Currency</th>\n",
       "      <th>Has Table booking</th>\n",
       "      <th>Has Online delivery</th>\n",
       "      <th>Is delivering now</th>\n",
       "      <th>Switch to order menu</th>\n",
       "      <th>Price range</th>\n",
       "      <th>Aggregate rating</th>\n",
       "      <th>Rating color</th>\n",
       "      <th>Rating text</th>\n",
       "      <th>Votes</th>\n",
       "    </tr>\n",
       "  </thead>\n",
       "  <tbody>\n",
       "    <tr>\n",
       "      <th>0</th>\n",
       "      <td>6317637</td>\n",
       "      <td>Le Petit Souffle</td>\n",
       "      <td>162</td>\n",
       "      <td>Makati City</td>\n",
       "      <td>Third Floor, Century City Mall, Kalayaan Avenu...</td>\n",
       "      <td>Century City Mall, Poblacion, Makati City</td>\n",
       "      <td>Century City Mall, Poblacion, Makati City, Mak...</td>\n",
       "      <td>121.027535</td>\n",
       "      <td>14.565443</td>\n",
       "      <td>French, Japanese, Desserts</td>\n",
       "      <td>...</td>\n",
       "      <td>Botswana Pula(P)</td>\n",
       "      <td>Yes</td>\n",
       "      <td>No</td>\n",
       "      <td>No</td>\n",
       "      <td>No</td>\n",
       "      <td>3</td>\n",
       "      <td>4.8</td>\n",
       "      <td>Dark Green</td>\n",
       "      <td>Excellent</td>\n",
       "      <td>314</td>\n",
       "    </tr>\n",
       "    <tr>\n",
       "      <th>1</th>\n",
       "      <td>6304287</td>\n",
       "      <td>Izakaya Kikufuji</td>\n",
       "      <td>162</td>\n",
       "      <td>Makati City</td>\n",
       "      <td>Little Tokyo, 2277 Chino Roces Avenue, Legaspi...</td>\n",
       "      <td>Little Tokyo, Legaspi Village, Makati City</td>\n",
       "      <td>Little Tokyo, Legaspi Village, Makati City, Ma...</td>\n",
       "      <td>121.014101</td>\n",
       "      <td>14.553708</td>\n",
       "      <td>Japanese</td>\n",
       "      <td>...</td>\n",
       "      <td>Botswana Pula(P)</td>\n",
       "      <td>Yes</td>\n",
       "      <td>No</td>\n",
       "      <td>No</td>\n",
       "      <td>No</td>\n",
       "      <td>3</td>\n",
       "      <td>4.5</td>\n",
       "      <td>Dark Green</td>\n",
       "      <td>Excellent</td>\n",
       "      <td>591</td>\n",
       "    </tr>\n",
       "    <tr>\n",
       "      <th>2</th>\n",
       "      <td>6300002</td>\n",
       "      <td>Heat - Edsa Shangri-La</td>\n",
       "      <td>162</td>\n",
       "      <td>Mandaluyong City</td>\n",
       "      <td>Edsa Shangri-La, 1 Garden Way, Ortigas, Mandal...</td>\n",
       "      <td>Edsa Shangri-La, Ortigas, Mandaluyong City</td>\n",
       "      <td>Edsa Shangri-La, Ortigas, Mandaluyong City, Ma...</td>\n",
       "      <td>121.056831</td>\n",
       "      <td>14.581404</td>\n",
       "      <td>Seafood, Asian, Filipino, Indian</td>\n",
       "      <td>...</td>\n",
       "      <td>Botswana Pula(P)</td>\n",
       "      <td>Yes</td>\n",
       "      <td>No</td>\n",
       "      <td>No</td>\n",
       "      <td>No</td>\n",
       "      <td>4</td>\n",
       "      <td>4.4</td>\n",
       "      <td>Green</td>\n",
       "      <td>Very Good</td>\n",
       "      <td>270</td>\n",
       "    </tr>\n",
       "    <tr>\n",
       "      <th>3</th>\n",
       "      <td>6318506</td>\n",
       "      <td>Ooma</td>\n",
       "      <td>162</td>\n",
       "      <td>Mandaluyong City</td>\n",
       "      <td>Third Floor, Mega Fashion Hall, SM Megamall, O...</td>\n",
       "      <td>SM Megamall, Ortigas, Mandaluyong City</td>\n",
       "      <td>SM Megamall, Ortigas, Mandaluyong City, Mandal...</td>\n",
       "      <td>121.056475</td>\n",
       "      <td>14.585318</td>\n",
       "      <td>Japanese, Sushi</td>\n",
       "      <td>...</td>\n",
       "      <td>Botswana Pula(P)</td>\n",
       "      <td>No</td>\n",
       "      <td>No</td>\n",
       "      <td>No</td>\n",
       "      <td>No</td>\n",
       "      <td>4</td>\n",
       "      <td>4.9</td>\n",
       "      <td>Dark Green</td>\n",
       "      <td>Excellent</td>\n",
       "      <td>365</td>\n",
       "    </tr>\n",
       "    <tr>\n",
       "      <th>4</th>\n",
       "      <td>6314302</td>\n",
       "      <td>Sambo Kojin</td>\n",
       "      <td>162</td>\n",
       "      <td>Mandaluyong City</td>\n",
       "      <td>Third Floor, Mega Atrium, SM Megamall, Ortigas...</td>\n",
       "      <td>SM Megamall, Ortigas, Mandaluyong City</td>\n",
       "      <td>SM Megamall, Ortigas, Mandaluyong City, Mandal...</td>\n",
       "      <td>121.057508</td>\n",
       "      <td>14.584450</td>\n",
       "      <td>Japanese, Korean</td>\n",
       "      <td>...</td>\n",
       "      <td>Botswana Pula(P)</td>\n",
       "      <td>Yes</td>\n",
       "      <td>No</td>\n",
       "      <td>No</td>\n",
       "      <td>No</td>\n",
       "      <td>4</td>\n",
       "      <td>4.8</td>\n",
       "      <td>Dark Green</td>\n",
       "      <td>Excellent</td>\n",
       "      <td>229</td>\n",
       "    </tr>\n",
       "  </tbody>\n",
       "</table>\n",
       "<p>5 rows × 21 columns</p>\n",
       "</div>"
      ],
      "text/plain": [
       "   Restaurant ID         Restaurant Name  Country Code              City  \\\n",
       "0        6317637        Le Petit Souffle           162       Makati City   \n",
       "1        6304287        Izakaya Kikufuji           162       Makati City   \n",
       "2        6300002  Heat - Edsa Shangri-La           162  Mandaluyong City   \n",
       "3        6318506                    Ooma           162  Mandaluyong City   \n",
       "4        6314302             Sambo Kojin           162  Mandaluyong City   \n",
       "\n",
       "                                             Address  \\\n",
       "0  Third Floor, Century City Mall, Kalayaan Avenu...   \n",
       "1  Little Tokyo, 2277 Chino Roces Avenue, Legaspi...   \n",
       "2  Edsa Shangri-La, 1 Garden Way, Ortigas, Mandal...   \n",
       "3  Third Floor, Mega Fashion Hall, SM Megamall, O...   \n",
       "4  Third Floor, Mega Atrium, SM Megamall, Ortigas...   \n",
       "\n",
       "                                     Locality  \\\n",
       "0   Century City Mall, Poblacion, Makati City   \n",
       "1  Little Tokyo, Legaspi Village, Makati City   \n",
       "2  Edsa Shangri-La, Ortigas, Mandaluyong City   \n",
       "3      SM Megamall, Ortigas, Mandaluyong City   \n",
       "4      SM Megamall, Ortigas, Mandaluyong City   \n",
       "\n",
       "                                    Locality Verbose   Longitude   Latitude  \\\n",
       "0  Century City Mall, Poblacion, Makati City, Mak...  121.027535  14.565443   \n",
       "1  Little Tokyo, Legaspi Village, Makati City, Ma...  121.014101  14.553708   \n",
       "2  Edsa Shangri-La, Ortigas, Mandaluyong City, Ma...  121.056831  14.581404   \n",
       "3  SM Megamall, Ortigas, Mandaluyong City, Mandal...  121.056475  14.585318   \n",
       "4  SM Megamall, Ortigas, Mandaluyong City, Mandal...  121.057508  14.584450   \n",
       "\n",
       "                           Cuisines  ...           Currency Has Table booking  \\\n",
       "0        French, Japanese, Desserts  ...   Botswana Pula(P)               Yes   \n",
       "1                          Japanese  ...   Botswana Pula(P)               Yes   \n",
       "2  Seafood, Asian, Filipino, Indian  ...   Botswana Pula(P)               Yes   \n",
       "3                   Japanese, Sushi  ...   Botswana Pula(P)                No   \n",
       "4                  Japanese, Korean  ...   Botswana Pula(P)               Yes   \n",
       "\n",
       "  Has Online delivery Is delivering now Switch to order menu Price range  \\\n",
       "0                  No                No                   No           3   \n",
       "1                  No                No                   No           3   \n",
       "2                  No                No                   No           4   \n",
       "3                  No                No                   No           4   \n",
       "4                  No                No                   No           4   \n",
       "\n",
       "   Aggregate rating  Rating color Rating text Votes  \n",
       "0               4.8    Dark Green   Excellent   314  \n",
       "1               4.5    Dark Green   Excellent   591  \n",
       "2               4.4         Green   Very Good   270  \n",
       "3               4.9    Dark Green   Excellent   365  \n",
       "4               4.8    Dark Green   Excellent   229  \n",
       "\n",
       "[5 rows x 21 columns]"
      ]
     },
     "execution_count": 108,
     "metadata": {},
     "output_type": "execute_result"
    }
   ],
   "source": [
    "import matplotlib.pyplot as plt\n",
    "import pandas as pd\n",
    "import numpy as np\n",
    "df = pd.read_csv('/Users/vineet.khattar/Downloads/zomato.csv/zomato.csv',encoding = \"ISO-8859-1\")\n",
    "df.head()"
   ]
  },
  {
   "cell_type": "markdown",
   "metadata": {},
   "source": [
    "<h3>Create dummy variables from the data</h3> \n",
    "\n",
    "In this step I create dummy variables, namely for the following variables:\n",
    "'Has Online delivery','Has Table booking','Is delivering now',and 'Country Code'"
   ]
  },
  {
   "cell_type": "code",
   "execution_count": 109,
   "metadata": {
    "collapsed": true
   },
   "outputs": [],
   "source": [
    "dummy1 = pd.get_dummies(df['Has Online delivery'])\n",
    "df = pd.concat([df,dummy1],axis =1)\n",
    "df.rename(columns={'No':'noonlinedelivery'}, inplace=True)\n",
    "df.rename(columns={'Yes':'yesonlinedelivery'}, inplace=True)\n"
   ]
  },
  {
   "cell_type": "code",
   "execution_count": 110,
   "metadata": {
    "collapsed": false
   },
   "outputs": [],
   "source": [
    "dummy2 = pd.get_dummies(df['Has Table booking'])\n",
    "df = pd.concat([df,dummy2],axis =1)\n",
    "df.rename(columns={'No':'Hastable'}, inplace=True)\n",
    "df.rename(columns={'Yes':'notable'}, inplace=True)\n"
   ]
  },
  {
   "cell_type": "code",
   "execution_count": 111,
   "metadata": {
    "collapsed": true
   },
   "outputs": [],
   "source": [
    "dummy3 = pd.get_dummies(df['Is delivering now'])\n",
    "df = pd.concat([df,dummy3],axis =1)\n",
    "df.rename(columns={'No':'yesdelivery'}, inplace=True)\n",
    "df.rename(columns={'Yes':'nodelivery'}, inplace=True)\n"
   ]
  },
  {
   "cell_type": "code",
   "execution_count": 112,
   "metadata": {
    "collapsed": true
   },
   "outputs": [],
   "source": [
    "dummy5 = pd.get_dummies(df['Country Code'])\n",
    "df = pd.concat([df,dummy5],axis =1)\n",
    "df.rename(columns={162:'Botswana'}, inplace=True)\n",
    "df.rename(columns={30:'Brazil'}, inplace=True)\n",
    "df.rename(columns={216:'United States'}, inplace=True)\n",
    "df.rename(columns={14:'Australia'}, inplace=True)\n",
    "df.rename(columns={37:'Canada'}, inplace=True)\n",
    "df.rename(columns={215:'United Kingdom'}, inplace=True)\n",
    "df.rename(columns={214:'UAE'}, inplace=True)\n",
    "df.rename(columns={208:'Turkey'}, inplace=True)\n",
    "df.rename(columns={191:'Sri Lanka'}, inplace=True)\n",
    "df.rename(columns={184:'Singapore'}, inplace=True)\n",
    "df.rename(columns={189:'South Africa'}, inplace=True)\n",
    "df.rename(columns={166:'Qatar'}, inplace=True)\n",
    "df.rename(columns={162:'Philippines'}, inplace=True)\n",
    "df.rename(columns={14:'India'}, inplace=True)\n",
    "df.rename(columns={1:'India'}, inplace=True)\n",
    "df.rename(columns={94:'Indonesia'}, inplace=True)\n",
    "df.rename(columns={148:'148'}, inplace=True)\n"
   ]
  },
  {
   "cell_type": "code",
   "execution_count": 113,
   "metadata": {
    "collapsed": false
   },
   "outputs": [],
   "source": [
    "dummy6 = pd.get_dummies(df['Has Table booking'])\n",
    "df = pd.concat([df,dummy6],axis =1)\n",
    "df.rename(columns={'No':'yesorder'}, inplace=True)\n",
    "df.rename(columns={'Yes':'noorder'}, inplace=True)\n"
   ]
  },
  {
   "cell_type": "markdown",
   "metadata": {},
   "source": [
    "<h3>Data Analysis</h3>"
   ]
  },
  {
   "cell_type": "code",
   "execution_count": 16,
   "metadata": {
    "collapsed": false
   },
   "outputs": [
    {
     "data": {
      "text/html": [
       "<div>\n",
       "<table border=\"1\" class=\"dataframe\">\n",
       "  <thead>\n",
       "    <tr style=\"text-align: right;\">\n",
       "      <th></th>\n",
       "      <th>Restaurant ID</th>\n",
       "      <th>Country Code</th>\n",
       "      <th>Longitude</th>\n",
       "      <th>Latitude</th>\n",
       "      <th>Average Cost for two</th>\n",
       "      <th>Price range</th>\n",
       "      <th>Aggregate rating</th>\n",
       "      <th>Votes</th>\n",
       "      <th>noonlinedelivery</th>\n",
       "      <th>yesonlinedelivery</th>\n",
       "      <th>...</th>\n",
       "      <th>Qatar</th>\n",
       "      <th>Singapore</th>\n",
       "      <th>South Africa</th>\n",
       "      <th>Sri Lanka</th>\n",
       "      <th>Turkey</th>\n",
       "      <th>UAE</th>\n",
       "      <th>United Kingdom</th>\n",
       "      <th>United States</th>\n",
       "      <th>yesorder</th>\n",
       "      <th>noorder</th>\n",
       "    </tr>\n",
       "  </thead>\n",
       "  <tbody>\n",
       "    <tr>\n",
       "      <th>count</th>\n",
       "      <td>9.551000e+03</td>\n",
       "      <td>9551.000000</td>\n",
       "      <td>9551.000000</td>\n",
       "      <td>9551.000000</td>\n",
       "      <td>9551.000000</td>\n",
       "      <td>9551.000000</td>\n",
       "      <td>9551.000000</td>\n",
       "      <td>9551.000000</td>\n",
       "      <td>9551.000000</td>\n",
       "      <td>9551.000000</td>\n",
       "      <td>...</td>\n",
       "      <td>9551.000000</td>\n",
       "      <td>9551.000000</td>\n",
       "      <td>9551.000000</td>\n",
       "      <td>9551.000000</td>\n",
       "      <td>9551.000000</td>\n",
       "      <td>9551.000000</td>\n",
       "      <td>9551.000000</td>\n",
       "      <td>9551.000000</td>\n",
       "      <td>9551.000000</td>\n",
       "      <td>9551.000000</td>\n",
       "    </tr>\n",
       "    <tr>\n",
       "      <th>mean</th>\n",
       "      <td>9.051128e+06</td>\n",
       "      <td>18.365616</td>\n",
       "      <td>64.126574</td>\n",
       "      <td>25.854381</td>\n",
       "      <td>1199.210763</td>\n",
       "      <td>1.804837</td>\n",
       "      <td>2.666370</td>\n",
       "      <td>156.909748</td>\n",
       "      <td>0.743378</td>\n",
       "      <td>0.256622</td>\n",
       "      <td>...</td>\n",
       "      <td>0.002094</td>\n",
       "      <td>0.002094</td>\n",
       "      <td>0.006282</td>\n",
       "      <td>0.002094</td>\n",
       "      <td>0.003560</td>\n",
       "      <td>0.006282</td>\n",
       "      <td>0.008376</td>\n",
       "      <td>0.045440</td>\n",
       "      <td>0.878756</td>\n",
       "      <td>0.121244</td>\n",
       "    </tr>\n",
       "    <tr>\n",
       "      <th>std</th>\n",
       "      <td>8.791521e+06</td>\n",
       "      <td>56.750546</td>\n",
       "      <td>41.467058</td>\n",
       "      <td>11.007935</td>\n",
       "      <td>16121.183073</td>\n",
       "      <td>0.905609</td>\n",
       "      <td>1.516378</td>\n",
       "      <td>430.169145</td>\n",
       "      <td>0.436792</td>\n",
       "      <td>0.436792</td>\n",
       "      <td>...</td>\n",
       "      <td>0.045715</td>\n",
       "      <td>0.045715</td>\n",
       "      <td>0.079014</td>\n",
       "      <td>0.045715</td>\n",
       "      <td>0.059561</td>\n",
       "      <td>0.079014</td>\n",
       "      <td>0.091142</td>\n",
       "      <td>0.208279</td>\n",
       "      <td>0.326428</td>\n",
       "      <td>0.326428</td>\n",
       "    </tr>\n",
       "    <tr>\n",
       "      <th>min</th>\n",
       "      <td>5.300000e+01</td>\n",
       "      <td>1.000000</td>\n",
       "      <td>-157.948486</td>\n",
       "      <td>-41.330428</td>\n",
       "      <td>0.000000</td>\n",
       "      <td>1.000000</td>\n",
       "      <td>0.000000</td>\n",
       "      <td>0.000000</td>\n",
       "      <td>0.000000</td>\n",
       "      <td>0.000000</td>\n",
       "      <td>...</td>\n",
       "      <td>0.000000</td>\n",
       "      <td>0.000000</td>\n",
       "      <td>0.000000</td>\n",
       "      <td>0.000000</td>\n",
       "      <td>0.000000</td>\n",
       "      <td>0.000000</td>\n",
       "      <td>0.000000</td>\n",
       "      <td>0.000000</td>\n",
       "      <td>0.000000</td>\n",
       "      <td>0.000000</td>\n",
       "    </tr>\n",
       "    <tr>\n",
       "      <th>25%</th>\n",
       "      <td>3.019625e+05</td>\n",
       "      <td>1.000000</td>\n",
       "      <td>77.081343</td>\n",
       "      <td>28.478713</td>\n",
       "      <td>250.000000</td>\n",
       "      <td>1.000000</td>\n",
       "      <td>2.500000</td>\n",
       "      <td>5.000000</td>\n",
       "      <td>0.000000</td>\n",
       "      <td>0.000000</td>\n",
       "      <td>...</td>\n",
       "      <td>0.000000</td>\n",
       "      <td>0.000000</td>\n",
       "      <td>0.000000</td>\n",
       "      <td>0.000000</td>\n",
       "      <td>0.000000</td>\n",
       "      <td>0.000000</td>\n",
       "      <td>0.000000</td>\n",
       "      <td>0.000000</td>\n",
       "      <td>1.000000</td>\n",
       "      <td>0.000000</td>\n",
       "    </tr>\n",
       "    <tr>\n",
       "      <th>50%</th>\n",
       "      <td>6.004089e+06</td>\n",
       "      <td>1.000000</td>\n",
       "      <td>77.191964</td>\n",
       "      <td>28.570469</td>\n",
       "      <td>400.000000</td>\n",
       "      <td>2.000000</td>\n",
       "      <td>3.200000</td>\n",
       "      <td>31.000000</td>\n",
       "      <td>1.000000</td>\n",
       "      <td>0.000000</td>\n",
       "      <td>...</td>\n",
       "      <td>0.000000</td>\n",
       "      <td>0.000000</td>\n",
       "      <td>0.000000</td>\n",
       "      <td>0.000000</td>\n",
       "      <td>0.000000</td>\n",
       "      <td>0.000000</td>\n",
       "      <td>0.000000</td>\n",
       "      <td>0.000000</td>\n",
       "      <td>1.000000</td>\n",
       "      <td>0.000000</td>\n",
       "    </tr>\n",
       "    <tr>\n",
       "      <th>75%</th>\n",
       "      <td>1.835229e+07</td>\n",
       "      <td>1.000000</td>\n",
       "      <td>77.282006</td>\n",
       "      <td>28.642758</td>\n",
       "      <td>700.000000</td>\n",
       "      <td>2.000000</td>\n",
       "      <td>3.700000</td>\n",
       "      <td>131.000000</td>\n",
       "      <td>1.000000</td>\n",
       "      <td>1.000000</td>\n",
       "      <td>...</td>\n",
       "      <td>0.000000</td>\n",
       "      <td>0.000000</td>\n",
       "      <td>0.000000</td>\n",
       "      <td>0.000000</td>\n",
       "      <td>0.000000</td>\n",
       "      <td>0.000000</td>\n",
       "      <td>0.000000</td>\n",
       "      <td>0.000000</td>\n",
       "      <td>1.000000</td>\n",
       "      <td>0.000000</td>\n",
       "    </tr>\n",
       "    <tr>\n",
       "      <th>max</th>\n",
       "      <td>1.850065e+07</td>\n",
       "      <td>216.000000</td>\n",
       "      <td>174.832089</td>\n",
       "      <td>55.976980</td>\n",
       "      <td>800000.000000</td>\n",
       "      <td>4.000000</td>\n",
       "      <td>4.900000</td>\n",
       "      <td>10934.000000</td>\n",
       "      <td>1.000000</td>\n",
       "      <td>1.000000</td>\n",
       "      <td>...</td>\n",
       "      <td>1.000000</td>\n",
       "      <td>1.000000</td>\n",
       "      <td>1.000000</td>\n",
       "      <td>1.000000</td>\n",
       "      <td>1.000000</td>\n",
       "      <td>1.000000</td>\n",
       "      <td>1.000000</td>\n",
       "      <td>1.000000</td>\n",
       "      <td>1.000000</td>\n",
       "      <td>1.000000</td>\n",
       "    </tr>\n",
       "  </tbody>\n",
       "</table>\n",
       "<p>8 rows × 31 columns</p>\n",
       "</div>"
      ],
      "text/plain": [
       "       Restaurant ID  Country Code    Longitude     Latitude  \\\n",
       "count   9.551000e+03   9551.000000  9551.000000  9551.000000   \n",
       "mean    9.051128e+06     18.365616    64.126574    25.854381   \n",
       "std     8.791521e+06     56.750546    41.467058    11.007935   \n",
       "min     5.300000e+01      1.000000  -157.948486   -41.330428   \n",
       "25%     3.019625e+05      1.000000    77.081343    28.478713   \n",
       "50%     6.004089e+06      1.000000    77.191964    28.570469   \n",
       "75%     1.835229e+07      1.000000    77.282006    28.642758   \n",
       "max     1.850065e+07    216.000000   174.832089    55.976980   \n",
       "\n",
       "       Average Cost for two  Price range  Aggregate rating         Votes  \\\n",
       "count           9551.000000  9551.000000       9551.000000   9551.000000   \n",
       "mean            1199.210763     1.804837          2.666370    156.909748   \n",
       "std            16121.183073     0.905609          1.516378    430.169145   \n",
       "min                0.000000     1.000000          0.000000      0.000000   \n",
       "25%              250.000000     1.000000          2.500000      5.000000   \n",
       "50%              400.000000     2.000000          3.200000     31.000000   \n",
       "75%              700.000000     2.000000          3.700000    131.000000   \n",
       "max           800000.000000     4.000000          4.900000  10934.000000   \n",
       "\n",
       "       noonlinedelivery  yesonlinedelivery     ...             Qatar  \\\n",
       "count       9551.000000        9551.000000     ...       9551.000000   \n",
       "mean           0.743378           0.256622     ...          0.002094   \n",
       "std            0.436792           0.436792     ...          0.045715   \n",
       "min            0.000000           0.000000     ...          0.000000   \n",
       "25%            0.000000           0.000000     ...          0.000000   \n",
       "50%            1.000000           0.000000     ...          0.000000   \n",
       "75%            1.000000           1.000000     ...          0.000000   \n",
       "max            1.000000           1.000000     ...          1.000000   \n",
       "\n",
       "         Singapore  South Africa    Sri Lanka       Turkey          UAE  \\\n",
       "count  9551.000000   9551.000000  9551.000000  9551.000000  9551.000000   \n",
       "mean      0.002094      0.006282     0.002094     0.003560     0.006282   \n",
       "std       0.045715      0.079014     0.045715     0.059561     0.079014   \n",
       "min       0.000000      0.000000     0.000000     0.000000     0.000000   \n",
       "25%       0.000000      0.000000     0.000000     0.000000     0.000000   \n",
       "50%       0.000000      0.000000     0.000000     0.000000     0.000000   \n",
       "75%       0.000000      0.000000     0.000000     0.000000     0.000000   \n",
       "max       1.000000      1.000000     1.000000     1.000000     1.000000   \n",
       "\n",
       "       United Kingdom  United States     yesorder      noorder  \n",
       "count     9551.000000    9551.000000  9551.000000  9551.000000  \n",
       "mean         0.008376       0.045440     0.878756     0.121244  \n",
       "std          0.091142       0.208279     0.326428     0.326428  \n",
       "min          0.000000       0.000000     0.000000     0.000000  \n",
       "25%          0.000000       0.000000     1.000000     0.000000  \n",
       "50%          0.000000       0.000000     1.000000     0.000000  \n",
       "75%          0.000000       0.000000     1.000000     0.000000  \n",
       "max          1.000000       1.000000     1.000000     1.000000  \n",
       "\n",
       "[8 rows x 31 columns]"
      ]
     },
     "execution_count": 16,
     "metadata": {},
     "output_type": "execute_result"
    }
   ],
   "source": [
    "df.describe()"
   ]
  },
  {
   "cell_type": "markdown",
   "metadata": {},
   "source": [
    "<h3>CHECK MISSING VALUES</h3>"
   ]
  },
  {
   "cell_type": "code",
   "execution_count": 59,
   "metadata": {
    "collapsed": false
   },
   "outputs": [
    {
     "data": {
      "text/plain": [
       "Restaurant ID           False\n",
       "Restaurant Name         False\n",
       "Country Code            False\n",
       "City                    False\n",
       "Address                 False\n",
       "Locality                False\n",
       "Locality Verbose        False\n",
       "Longitude               False\n",
       "Latitude                False\n",
       "Cuisines                 True\n",
       "Average Cost for two    False\n",
       "Currency                False\n",
       "Has Table booking       False\n",
       "Has Online delivery     False\n",
       "Is delivering now       False\n",
       "Switch to order menu    False\n",
       "Price range             False\n",
       "Aggregate rating        False\n",
       "Rating color            False\n",
       "Rating text             False\n",
       "Votes                   False\n",
       "noonlinedelivery        False\n",
       "yesonlinedelivery       False\n",
       "Hastable                False\n",
       "notable                 False\n",
       "yesdelivery             False\n",
       "nodelivery              False\n",
       "India                   False\n",
       "Australia               False\n",
       "Brazil                  False\n",
       "Canada                  False\n",
       "Indonesia               False\n",
       "148                     False\n",
       "Botswana                False\n",
       "Qatar                   False\n",
       "Singapore               False\n",
       "South Africa            False\n",
       "Sri Lanka               False\n",
       "Turkey                  False\n",
       "UAE                     False\n",
       "United Kingdom          False\n",
       "United States           False\n",
       "yesorder                False\n",
       "noorder                 False\n",
       "Average                 False\n",
       "Excellent               False\n",
       "Good                    False\n",
       "Not rated               False\n",
       "Poor                    False\n",
       "Very Good               False\n",
       "dtype: bool"
      ]
     },
     "execution_count": 59,
     "metadata": {},
     "output_type": "execute_result"
    }
   ],
   "source": [
    "df.isnull().any()"
   ]
  },
  {
   "cell_type": "markdown",
   "metadata": {},
   "source": [
    "From the above we can see that there are no missing values in any of the coloumn except cuisines. I am not including cuisines in my model. Hence, I should not have any problem"
   ]
  },
  {
   "cell_type": "markdown",
   "metadata": {},
   "source": [
    "<h3>DATAFRAME INFORMATION</h3>\n"
   ]
  },
  {
   "cell_type": "code",
   "execution_count": 76,
   "metadata": {
    "collapsed": false
   },
   "outputs": [
    {
     "name": "stdout",
     "output_type": "stream",
     "text": [
      "<class 'pandas.core.frame.DataFrame'>\n",
      "RangeIndex: 9551 entries, 0 to 9550\n",
      "Data columns (total 50 columns):\n",
      "Restaurant ID           9551 non-null int64\n",
      "Restaurant Name         9551 non-null object\n",
      "Country Code            9551 non-null int64\n",
      "City                    9551 non-null object\n",
      "Address                 9551 non-null object\n",
      "Locality                9551 non-null object\n",
      "Locality Verbose        9551 non-null object\n",
      "Longitude               9551 non-null float64\n",
      "Latitude                9551 non-null float64\n",
      "Cuisines                9542 non-null object\n",
      "Average Cost for two    9551 non-null int64\n",
      "Currency                9551 non-null object\n",
      "Has Table booking       9551 non-null object\n",
      "Has Online delivery     9551 non-null object\n",
      "Is delivering now       9551 non-null object\n",
      "Switch to order menu    9551 non-null object\n",
      "Price range             9551 non-null int64\n",
      "Aggregate rating        9551 non-null float64\n",
      "Rating color            9551 non-null object\n",
      "Rating text             9551 non-null object\n",
      "Votes                   9551 non-null int64\n",
      "noonlinedelivery        9551 non-null uint8\n",
      "yesonlinedelivery       9551 non-null uint8\n",
      "Hastable                9551 non-null uint8\n",
      "notable                 9551 non-null uint8\n",
      "yesdelivery             9551 non-null uint8\n",
      "nodelivery              9551 non-null uint8\n",
      "India                   9551 non-null uint8\n",
      "Australia               9551 non-null uint8\n",
      "Brazil                  9551 non-null uint8\n",
      "Canada                  9551 non-null uint8\n",
      "Indonesia               9551 non-null uint8\n",
      "148                     9551 non-null uint8\n",
      "Botswana                9551 non-null uint8\n",
      "Qatar                   9551 non-null uint8\n",
      "Singapore               9551 non-null uint8\n",
      "South Africa            9551 non-null uint8\n",
      "Sri Lanka               9551 non-null uint8\n",
      "Turkey                  9551 non-null uint8\n",
      "UAE                     9551 non-null uint8\n",
      "United Kingdom          9551 non-null uint8\n",
      "United States           9551 non-null uint8\n",
      "yesorder                9551 non-null uint8\n",
      "noorder                 9551 non-null uint8\n",
      "Average                 9551 non-null uint8\n",
      "Excellent               9551 non-null uint8\n",
      "Good                    9551 non-null uint8\n",
      "Not rated               9551 non-null uint8\n",
      "Poor                    9551 non-null uint8\n",
      "Very Good               9551 non-null uint8\n",
      "dtypes: float64(3), int64(5), object(13), uint8(29)\n",
      "memory usage: 1.8+ MB\n"
     ]
    }
   ],
   "source": [
    "df.info()"
   ]
  },
  {
   "cell_type": "markdown",
   "metadata": {},
   "source": [
    "The above cell provides information on all the coloumns in the dataframe"
   ]
  },
  {
   "cell_type": "markdown",
   "metadata": {},
   "source": [
    "<h3>DATA DESCRIPTION</h3>"
   ]
  },
  {
   "cell_type": "code",
   "execution_count": 94,
   "metadata": {
    "collapsed": false
   },
   "outputs": [
    {
     "data": {
      "text/plain": [
       "(9551, 50)"
      ]
     },
     "execution_count": 94,
     "metadata": {},
     "output_type": "execute_result"
    }
   ],
   "source": [
    "df.shape"
   ]
  },
  {
   "cell_type": "code",
   "execution_count": 92,
   "metadata": {
    "collapsed": false
   },
   "outputs": [
    {
     "data": {
      "text/plain": [
       "['Restaurant ID',\n",
       " 'Restaurant Name',\n",
       " 'Country Code',\n",
       " 'City',\n",
       " 'Address',\n",
       " 'Locality',\n",
       " 'Locality Verbose',\n",
       " 'Longitude',\n",
       " 'Latitude',\n",
       " 'Cuisines',\n",
       " 'Average Cost for two',\n",
       " 'Currency',\n",
       " 'Has Table booking',\n",
       " 'Has Online delivery',\n",
       " 'Is delivering now',\n",
       " 'Switch to order menu',\n",
       " 'Price range',\n",
       " 'Aggregate rating',\n",
       " 'Rating color',\n",
       " 'Rating text',\n",
       " 'Votes',\n",
       " 'noonlinedelivery',\n",
       " 'yesonlinedelivery',\n",
       " 'Hastable',\n",
       " 'notable',\n",
       " 'yesdelivery',\n",
       " 'nodelivery',\n",
       " 'India',\n",
       " 'Australia',\n",
       " 'Brazil',\n",
       " 'Canada',\n",
       " 'Indonesia',\n",
       " '148',\n",
       " 'Botswana',\n",
       " 'Qatar',\n",
       " 'Singapore',\n",
       " 'South Africa',\n",
       " 'Sri Lanka',\n",
       " 'Turkey',\n",
       " 'UAE',\n",
       " 'United Kingdom',\n",
       " 'United States',\n",
       " 'yesorder',\n",
       " 'noorder',\n",
       " 'Average',\n",
       " 'Excellent',\n",
       " 'Good',\n",
       " 'Not rated',\n",
       " 'Poor',\n",
       " 'Very Good']"
      ]
     },
     "execution_count": 92,
     "metadata": {},
     "output_type": "execute_result"
    }
   ],
   "source": [
    "list(df)"
   ]
  },
  {
   "cell_type": "markdown",
   "metadata": {},
   "source": [
    "<h3>Histogram of Aggregated rating </h3>\n",
    "\n",
    "The histogram shows that majority of the rating is in between 2-5, and very few between 0-0.5"
   ]
  },
  {
   "cell_type": "code",
   "execution_count": 17,
   "metadata": {
    "collapsed": false
   },
   "outputs": [
    {
     "data": {
      "image/png": "[encoded data removed]",
      "text/plain": [
       "<matplotlib.figure.Figure at 0x149be19ee10>"
      ]
     },
     "metadata": {},
     "output_type": "display_data"
    }
   ],
   "source": [
    "num_bins = 10\n",
    "plt.hist(df['Aggregate rating'], num_bins, normed=1, facecolor='blue', alpha=0.5)\n",
    "plt.xlabel(\"Rating\")\n",
    "plt.ylabel(\"Counts\")\n",
    "plt.show()\n"
   ]
  },
  {
   "cell_type": "markdown",
   "metadata": {},
   "source": [
    "<h3>Histogram of Number of votes</h3>\n",
    "\n",
    "From the below histogram, we can say that majority of votes are between 0-1000 and few between 1000-2000"
   ]
  },
  {
   "cell_type": "code",
   "execution_count": 58,
   "metadata": {
    "collapsed": false
   },
   "outputs": [
    {
     "data": {
      "image/png": "[encoded data removed]",
      "text/plain": [
       "<matplotlib.figure.Figure at 0x149bea1db38>"
      ]
     },
     "metadata": {},
     "output_type": "display_data"
    }
   ],
   "source": [
    "num_bins = 10\n",
    "plt.hist(df['Votes'], num_bins, normed=1, facecolor='blue', alpha=0.5)\n",
    "plt.xlabel(\"Votes\")\n",
    "plt.ylabel(\"Count\")\n",
    "\n",
    "\n",
    "plt.show()\n"
   ]
  },
  {
   "cell_type": "markdown",
   "metadata": {},
   "source": [
    "<h3>HISTOGRAM OF DISTIBUTION OF RESTRAUNTS IN DIFFERENT COUNTRIES</h3> "
   ]
  },
  {
   "cell_type": "code",
   "execution_count": 84,
   "metadata": {
    "collapsed": false
   },
   "outputs": [
    {
     "data": {
      "image/png": "[encoded data removed]",
      "text/plain": [
       "<matplotlib.figure.Figure at 0x149beb41b38>"
      ]
     },
     "metadata": {},
     "output_type": "display_data"
    },
    {
     "data": {
      "image/png": "[encoded data removed]",
      "text/plain": [
       "<matplotlib.figure.Figure at 0x149c2040160>"
      ]
     },
     "metadata": {},
     "output_type": "display_data"
    },
    {
     "data": {
      "image/png": "[encoded data removed]",
      "text/plain": [
       "<matplotlib.figure.Figure at 0x149c207c748>"
      ]
     },
     "metadata": {},
     "output_type": "display_data"
    },
    {
     "data": {
      "image/png": "[encoded data removed]",
      "text/plain": [
       "<matplotlib.figure.Figure at 0x149c213d860>"
      ]
     },
     "metadata": {},
     "output_type": "display_data"
    }
   ],
   "source": [
    "num_bins = 3\n",
    "plt.hist(df['Singapore'], num_bins, normed=1, facecolor='blue')\n",
    "plt.xlabel(\"Singapore\")\n",
    "plt.ylabel(\"Count\")\n",
    "plt.xticks(range(0, 5))\n",
    "plt.yticks(range(1, 10))\n",
    "plt.show()\n",
    "\n",
    "num_bins = 3\n",
    "plt.hist(df['India'], num_bins, normed=1, facecolor='blue', alpha=0.5)\n",
    "plt.xlabel(\"India\")\n",
    "plt.ylabel(\"Count\")\n",
    "plt.xticks(range(0, 5))\n",
    "plt.yticks(range(1, 10))\n",
    "plt.show()\n",
    "\n",
    "num_bins = 3\n",
    "plt.hist(df['South Africa'], num_bins, normed=1, facecolor='blue', alpha=0.5)\n",
    "plt.xlabel(\"South Africa\")\n",
    "plt.ylabel(\"Count\")\n",
    "plt.xticks(range(0, 5))\n",
    "plt.yticks(range(1, 10))\n",
    "plt.show()\n",
    "\n",
    "\n",
    "num_bins = 3\n",
    "plt.hist(df['United Kingdom'], num_bins, normed=1, facecolor='blue', alpha=0.5)\n",
    "plt.xlabel(\"United Kingdom\")\n",
    "plt.ylabel(\"Count\")\n",
    "plt.xticks(range(0, 5))\n",
    "plt.yticks(range(1, 10))\n",
    "plt.show()\n"
   ]
  },
  {
   "cell_type": "markdown",
   "metadata": {},
   "source": [
    "The above histograms show the distribution of restaraunts in various countries like UK, South Africa, India, Singapore. As we can see maximum number of  restraunts are in India"
   ]
  },
  {
   "cell_type": "markdown",
   "metadata": {},
   "source": [
    "<h3>SWARM PLOTS</h3>"
   ]
  },
  {
   "cell_type": "code",
   "execution_count": 141,
   "metadata": {
    "collapsed": false
   },
   "outputs": [],
   "source": [
    " import seaborn as sns\n",
    "fig1 = plt.figure(1, figsize=(9, 6))\n",
    "data_to_plot = df['Votes']\n",
    "\n",
    "ax = fig.add_subplot(111)\n",
    "\n",
    "bp = ax.boxplot(data_to_plot)\n",
    "\n",
    "fig1.savefig('fig1.png', bbox_inches='tight')\n"
   ]
  },
  {
   "cell_type": "markdown",
   "metadata": {},
   "source": [
    "<h3>III. HYPOTHESIS TESTING</h3>"
   ]
  },
  {
   "cell_type": "markdown",
   "metadata": {},
   "source": [
    "H0: These is no correlation between aggregate rating and number of votes\n",
    "\n",
    "H1: there is  correlation between and number of votes\n",
    "\n",
    "For exploring the relation, I develop a scatter plot. From the scatterplot, I can say that there is a positive correlation between Aggregate rating and number of votes. We can conclude this logically also, as greater the number of votes, greater the rating. \n",
    "From the scatterplot, we can also observe  that majority of votes are between 0-2000. Additionally, aggregate rating is between 2-5. Thus, our null hypothesis is rejected. I also make a second scatter plot for relation between aggregate rating and online delivery. There is a weak relation between those two. From the scatterplot, we can also observe  that majority of votes are between 0-2000. Additionally, aggregate rating is between 2-5. Thus, our null hypothesis is rejected. I also make a second scatter plot for relation between aggregate rating and online delivery. There is a weak relation between those two. \n",
    "\n",
    "We can derive more relationships between average rating and other parameters on the basis of Linear regression Model\n",
    "\n"
   ]
  },
  {
   "cell_type": "markdown",
   "metadata": {},
   "source": [
    "<h3>SCATTER PLOT</h3>"
   ]
  },
  {
   "cell_type": "code",
   "execution_count": 73,
   "metadata": {
    "collapsed": false
   },
   "outputs": [
    {
     "data": {
      "image/png": "[encoded data removed]",
      "text/plain": [
       "<matplotlib.figure.Figure at 0x149be79d6a0>"
      ]
     },
     "metadata": {},
     "output_type": "display_data"
    },
    {
     "data": {
      "image/png": "[encoded data removed]",
      "text/plain": [
       "<matplotlib.figure.Figure at 0x149be587a58>"
      ]
     },
     "metadata": {},
     "output_type": "display_data"
    }
   ],
   "source": [
    "x = df['Votes']\n",
    "y =df['Aggregate rating']\n",
    "colors = (0,0,0)\n",
    "plt.scatter(x, y,  c=colors, alpha=0.5)\n",
    "plt.title('Scatter plot')\n",
    "plt.xlabel('Votes')\n",
    "plt.ylabel('Aggregate rating')\n",
    "plt.show()\n",
    "\n",
    "x = df['Average Cost for two']\n",
    "y =df['Aggregate rating']\n",
    "colors = (0,0,0)\n",
    "plt.scatter(x, y,  c=colors, alpha=0.5)\n",
    "plt.title('Scatter plot')\n",
    "plt.xlabel('Delivery')\n",
    "plt.ylabel('Aggregate rating')\n",
    "plt.show()"
   ]
  },
  {
   "cell_type": "markdown",
   "metadata": {},
   "source": [
    "<h3>LASSO REGRESSION FOR FEATURE SELECTION</h3>"
   ]
  },
  {
   "cell_type": "code",
   "execution_count": 136,
   "metadata": {
    "collapsed": false
   },
   "outputs": [
    {
     "name": "stdout",
     "output_type": "stream",
     "text": [
      "[ 0.  0.  0. -0. -0. -0.  0. -0.  0.  0.  0.  0.  0.  0.  0.  0.  0.  0.]\n"
     ]
    }
   ],
   "source": [
    "from sklearn.linear_model import Lasso\n",
    "import matplotlib.pyplot as plt \n",
    "# Instantiate a lasso regressor: lasso\n",
    "lasso = Lasso(alpha=0.3, normalize=True)\n",
    "\n",
    "# Fit the regressor to the data\n",
    "lasso.fit(X_test,y_test)\n",
    "\n",
    "# Compute and print the coefficients\n",
    "lasso_coef = lasso.coef_\n",
    "print(lasso_coef)\n"
   ]
  },
  {
   "cell_type": "markdown",
   "metadata": {},
   "source": [
    "As shown, Lasso regression don't help much to decide which are the best coeff. So I rely on Scatterplots. I was able to select best dimensions from ridge regression. however, it stopped working unexpectedly"
   ]
  },
  {
   "cell_type": "markdown",
   "metadata": {},
   "source": [
    "<h3>MODEL IMPLEMENTATION</h3>\n",
    "\n",
    "Based on the results from the above scatterplot, I develop a linear regression model to further further explore relationship between ratings and other variables in the model. \n",
    "I want to analyze what factors can affect rating of a restraunt. For this, I develop Multiple regresssion model. My Y variable is Aggregate rating and my Xs are 'Average Cost for two','yesonlinedelivery','Votes','yesdelivery','Hastable','yesorder','Price range', 'India','Australia','Brazil','Canada','Indonesia','Botswana','Qatar','Singapore','UAE','United Kingdom','United States'\n",
    "To select the best parameters I had performed Lasso regression, however I got weird results fromthose.\n",
    "\n",
    "<h3>LINEAR REGRESSION</h3>\n",
    "\n",
    "Using linear regression, I find the predicted values of aggregated rating. My R2 is 32%, this means that I can find aggregated rating with an accuracy of 32 %. \n",
    "The Mean Squared error is 0.68. This error was reduced after data was scaled from 0.97 to 0.68.\n",
    "\n",
    "Zomato can use this model to identify which factors help restaurants get good rating. It can identify the most important and least important factors as per the results of the regression model. Based on the results, it can help restauraunts get better ratings and increase their poularity."
   ]
  },
  {
   "cell_type": "code",
   "execution_count": 114,
   "metadata": {
    "collapsed": false
   },
   "outputs": [
    {
     "name": "stdout",
     "output_type": "stream",
     "text": [
      "0.689053456925\n",
      "0.68991745471\n",
      "R^2: 0.32380500284983926\n"
     ]
    }
   ],
   "source": [
    "from sklearn.linear_model import LinearRegression\n",
    "from sklearn import metrics\n",
    "from sklearn.model_selection import train_test_split\n",
    "from sklearn.preprocessing import scale\n",
    "\n",
    "X = df[['Average Cost for two','yesonlinedelivery','Votes','yesdelivery','Hastable','yesorder','Price range', 'India','Australia','Brazil','Canada','Indonesia','Botswana','Qatar','Singapore','UAE','United Kingdom','United States']]\n",
    "y = df[['Aggregate rating']]\n",
    "X = scale(X)\n",
    "y = scale(y)\n",
    "\n",
    "X_train, X_test, y_train, y_test = train_test_split(X, y, test_size = .3, random_state=31)\n",
    "reg_all = LinearRegression()\n",
    "\n",
    "reg_all.fit(X_train, y_train)\n",
    "# Predict on the test data: y_pred\n",
    "y_pred = reg_all.predict(X_test)\n",
    "print(metrics.mean_absolute_error(y_test, y_pred))\n",
    "print(metrics.mean_squared_error(y_test, y_pred))\n",
    "print(\"R^2: {}\".format(reg_all.score(X_test, y_test)))\n",
    "\n"
   ]
  },
  {
   "cell_type": "markdown",
   "metadata": {},
   "source": [
    "<h2>KNN CLASSIFICATION</h2>\n",
    "\n",
    "Since, the linear regression's accuracy is low, maybe this data is better suited for some other type of model. To get a better accuracy of than linear regression, I perform KNN classification. In KNN classification, I classify data into the rating labels (such as Excellent, Average, Good, Very good ). From these results, average has the best precision and recall values\n",
    "\n",
    "The classification report shows that the accuracy of the data is as high as 71%.From the results we can see that average has the best precision and recall values. Thus, this data is better suited for KNN classification than linear regression.\n",
    "\n",
    "Using these results, Zomato can recommend good eating options to its users "
   ]
  },
  {
   "cell_type": "code",
   "execution_count": 36,
   "metadata": {
    "collapsed": false
   },
   "outputs": [
    {
     "name": "stdout",
     "output_type": "stream",
     "text": [
      "             precision    recall  f1-score   support\n",
      "\n",
      "    Average       0.74      0.87      0.80      1112\n",
      "  Excellent       0.38      0.21      0.27       104\n",
      "       Good       0.48      0.49      0.49       601\n",
      "  Not rated       1.00      0.98      0.99       659\n",
      "       Poor       0.00      0.00      0.00        50\n",
      "  Very Good       0.46      0.31      0.37       340\n",
      "\n",
      "avg / total       0.69      0.71      0.69      2866\n",
      "\n",
      "0.712491277041\n"
     ]
    },
    {
     "name": "stderr",
     "output_type": "stream",
     "text": [
      "C:\\ProgramData\\Anaconda3\\lib\\site-packages\\ipykernel\\__main__.py:11: DataConversionWarning: A column-vector y was passed when a 1d array was expected. Please change the shape of y to (n_samples, ), for example using ravel().\n"
     ]
    }
   ],
   "source": [
    "from sklearn.neighbors import KNeighborsClassifier\n",
    "from sklearn.metrics import classification_report\n",
    "\n",
    "# Initialize  KNN Classifier\n",
    "knn = KNeighborsClassifier(n_neighbors = 6)\n",
    "X = df[['Average Cost for two','Votes','Price range','Aggregate rating','Longitude','Latitude']]\n",
    "y = df[['Rating text']]\n",
    "X_train, X_test, y_train, y_test = train_test_split(X, y, test_size = .3, random_state=31)\n",
    "\n",
    "# Fit \n",
    "knn = knn.fit(X_train, y_train)\n",
    "\n",
    "# Predict\n",
    "y_prediction = knn.predict(X_test)\n",
    "\n",
    "# Classification Report \n",
    "print(classification_report(y_test, y_prediction))\n",
    "print(knn.score(X_test, y_test))\n"
   ]
  },
  {
   "cell_type": "markdown",
   "metadata": {},
   "source": [
    "<h2>LOGISTIC REGRESSSION</h2>"
   ]
  },
  {
   "cell_type": "markdown",
   "metadata": {},
   "source": [
    "\n",
    "To further increase the accuracy, I perform the logistic regression model. For the logistic regression,I check how much data falls in the excellent category. The accuracy of the logistic regression is as high as 97%. Thus, this model is best suited for this data. \n",
    "\n",
    "Zomato can use this model to find best restaurants on its site and recommend users good eating options."
   ]
  },
  {
   "cell_type": "code",
   "execution_count": 28,
   "metadata": {
    "collapsed": false
   },
   "outputs": [],
   "source": [
    "from sklearn.linear_model import LogisticRegression\n",
    "from sklearn.metrics import confusion_matrix, classification_report\n",
    "dummy8 = pd.get_dummies(df['Rating text'])\n",
    "df = pd.concat([df,dummy8],axis =1)\n",
    "\n"
   ]
  },
  {
   "cell_type": "code",
   "execution_count": 35,
   "metadata": {
    "collapsed": false
   },
   "outputs": [
    {
     "name": "stdout",
     "output_type": "stream",
     "text": [
      "[[3703    3]\n",
      " [ 110    5]]\n",
      "             precision    recall  f1-score   support\n",
      "\n",
      "          0       0.97      1.00      0.98      3706\n",
      "          1       0.62      0.04      0.08       115\n",
      "\n",
      "avg / total       0.96      0.97      0.96      3821\n",
      "\n"
     ]
    },
    {
     "name": "stderr",
     "output_type": "stream",
     "text": [
      "C:\\ProgramData\\Anaconda3\\lib\\site-packages\\sklearn\\utils\\validation.py:526: DataConversionWarning: A column-vector y was passed when a 1d array was expected. Please change the shape of y to (n_samples, ), for example using ravel().\n",
      "  y = column_or_1d(y, warn=True)\n"
     ]
    }
   ],
   "source": [
    "\n",
    "X = df[['Average Cost for two','Votes','Price range','Aggregate rating']]\n",
    "y = df[['Excellent']]\n",
    "\n",
    "X_train, X_test, y_train, y_test = train_test_split(X, y, test_size = 0.4, random_state=42)\n",
    "\n",
    "logreg = LogisticRegression()\n",
    "\n",
    "logreg.fit(X_train, y_train)\n",
    "\n",
    "\n",
    "y_pred = logreg.predict(X_test)\n",
    "\n",
    "print(confusion_matrix(y_test, y_pred))\n",
    "print(classification_report(y_test, y_pred))\n"
   ]
  },
  {
   "cell_type": "markdown",
   "metadata": {},
   "source": [
    "The accuracy of the above logistic regression model is 97%. Thus, this data is best suited for logistic regression."
   ]
  },
  {
   "cell_type": "markdown",
   "metadata": {},
   "source": [
    "<h1>CONCLUSION</h1>\n",
    "I develop 3 models in the my project namely Linear regression (accuracy =32 percent), Logistic regression (Accuracy =97 percent), and KNN classification (accuracy =71 percent)\n",
    "\n",
    "From the above analysis, we can conclude that this data is best suited for logistic regression. \n",
    "From logistic regression, we can classify restaurants which get excellent ratings and which fail to fall into that category. Zomato can advertise high ratings restaurants more often to increase its revenue. Zomato can also shows these high rating restaurants on the top of user search results.\n",
    "\n",
    "Other models like linear regression can also be helpful. The linear regression model helps to predict the ratings of the restaraunts. It also helps to identify what factors affect ratings. Zomato can identify how ratings change as per the online delivery options, pre booking options, countries, and so on. This analysis can then help restaraunts to increase their ratings. \n",
    "For example, if online booking increases restaraunt ratings, more restraunts can try that. Further, a relation between type of cuisne and rating can also be determined. Similar analysis can help restraunts to increase their ratings and further increase there revenue and sales.\n",
    "\n",
    "Finally, KNN Classification helps to classify restaurants into categories of good, average, excellent, bad, very good, etc. With help of this data, zomato can identify the best restaurants on its site and poor restaurants on its site. This analysis can help Zomato to give accurate search results to user queries and do better analysis.\n",
    "\n",
    "All this analysis can help zomato identify popularity of is restraunts geographically and on other factors. Further, we can also identify some patterns in the data by means of unsupervised learning which can again help Zomato with their analysis. Consequently, they can boost their revenue as per their popularity.\n",
    "\n"
   ]
  },
  {
   "cell_type": "code",
   "execution_count": null,
   "metadata": {
    "collapsed": true
   },
   "outputs": [],
   "source": []
  }
 ],
 "metadata": {
  "kernelspec": {
   "display_name": "Python 3",
   "language": "python",
   "name": "python3"
  },
  "language_info": {
   "codemirror_mode": {
    "name": "ipython",
    "version": 3
   },
   "file_extension": ".py",
   "mimetype": "text/x-python",
   "name": "python",
   "nbconvert_exporter": "python",
   "pygments_lexer": "ipython3",
   "version": "3.6.0"
  }
 },
 "nbformat": 4,
 "nbformat_minor": 2
}
